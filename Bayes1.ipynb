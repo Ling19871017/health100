{
 "cells": [
  {
   "cell_type": "code",
   "execution_count": 54,
   "metadata": {
    "collapsed": false,
    "scrolled": false
   },
   "outputs": [
    {
     "name": "stderr",
     "output_type": "stream",
     "text": [
      "F:\\mn\\InitMNData.py:18: SettingWithCopyWarning: \n",
      "A value is trying to be set on a copy of a slice from a DataFrame.\n",
      "Try using .loc[row_indexer,col_indexer] = value instead\n",
      "\n",
      "See the caveats in the documentation: http://pandas.pydata.org/pandas-docs/stable/indexing.html#indexing-view-versus-copy\n",
      "  df_temp['MBMS'] = df_temp['MBMS'].apply(removeCRLF)\n",
      "F:\\mn\\InitMNData.py:19: SettingWithCopyWarning: \n",
      "A value is trying to be set on a copy of a slice from a DataFrame.\n",
      "Try using .loc[row_indexer,col_indexer] = value instead\n",
      "\n",
      "See the caveats in the documentation: http://pandas.pydata.org/pandas-docs/stable/indexing.html#indexing-view-versus-copy\n",
      "  df_temp['MBMS'] = df_temp['MBMS'].apply(replaceComma)\n"
     ]
    }
   ],
   "source": [
    "import InitMNData\n",
    "import numpy as np\n",
    "df_cleaned, seg_df = InitMNData.init()"
   ]
  },
  {
   "cell_type": "code",
   "execution_count": 55,
   "metadata": {
    "collapsed": false,
    "scrolled": true
   },
   "outputs": [],
   "source": [
    "def clipper(txt):\n",
    "    return txt.split('\\t')"
   ]
  },
  {
   "cell_type": "code",
   "execution_count": 66,
   "metadata": {
    "collapsed": true
   },
   "outputs": [],
   "source": [
    "from sklearn.feature_extraction import FeatureHasher\n",
    "from sklearn.naive_bayes import MultinomialNB\n",
    "from sklearn.naive_bayes import GaussianNB\n",
    "fh = FeatureHasher(n_features = 15000, non_negative = True, input_type = 'string')"
   ]
  },
  {
   "cell_type": "code",
   "execution_count": 57,
   "metadata": {
    "collapsed": false
   },
   "outputs": [],
   "source": [
    "kvlist = [clipper(item) for item in list(seg_df['result'])]\n",
    "targetlist = np.unique(df_cleaned['JBBT'])"
   ]
  },
  {
   "cell_type": "code",
   "execution_count": 58,
   "metadata": {
    "collapsed": true
   },
   "outputs": [],
   "source": [
    "i = -1\n",
    "idx_to_target = {}\n",
    "for target in targetlist:\n",
    "    i += 1\n",
    "    idx_to_target[i] = target\n",
    "\n",
    "target_to_idx = {}\n",
    "for k, v in idx_to_target.items():\n",
    "    target_to_idx[v] = k"
   ]
  },
  {
   "cell_type": "code",
   "execution_count": 59,
   "metadata": {
    "collapsed": true
   },
   "outputs": [],
   "source": [
    "targetlist = [target_to_idx[item] for item in df_cleaned['JBBT']]"
   ]
  },
  {
   "cell_type": "code",
   "execution_count": null,
   "metadata": {
    "collapsed": true
   },
   "outputs": [],
   "source": [
    "def printResult(i):\n",
    "    _result = idx_to_target[clf.predict(X[i])[0]]\n",
    "    print(result)\n",
    "    for _item in list(df_cleaned[df_cleaned['JBBT'] == result]['MBMS']):\n",
    "        print(_item)\n",
    "    print('********************************')\n",
    "    _target = df_cleaned['JBBT'].iloc[i]\n",
    "    print(_target)\n",
    "    print(df_cleaned['MBMS'].iloc[i])"
   ]
  },
  {
   "cell_type": "code",
   "execution_count": 148,
   "metadata": {
    "collapsed": false
   },
   "outputs": [
    {
     "data": {
      "text/plain": [
       "MultinomialNB(alpha=0.001, class_prior=None, fit_prior=True)"
      ]
     },
     "execution_count": 148,
     "metadata": {},
     "output_type": "execute_result"
    }
   ],
   "source": [
    "from sklearn.feature_extraction.text import TfidfVectorizer, HashingVectorizer, CountVectorizer\n",
    "# hv = HashingVectorizer(n_features=15000, non_negative=True)\n",
    "hv = TfidfVectorizer()\n",
    "# hv = CountVectorizer(min_df=1)\n",
    "\n",
    "\n",
    "ser = seg_df['result']\n",
    "corpus = [s for s in ser]\n",
    "model = hv.fit(corpus)\n",
    "X = model.transform(corpus)\n",
    "# X = hv.fit_transform(corpus)\n",
    "# X = fh.fit_transform(kvlist)\n",
    "clf = MultinomialNB(alpha=0.001)\n",
    "clf.partial_fit(X, targetlist, classes = list(set(targetlist)))"
   ]
  },
  {
   "cell_type": "code",
   "execution_count": 149,
   "metadata": {
    "collapsed": false,
    "scrolled": true
   },
   "outputs": [
    {
     "name": "stdout",
     "output_type": "stream",
     "text": [
      "不全纵隔子宫\n",
      "子宫横径增宽，宫壁回声均匀，内膜线呈Y型走行，宫底见（未见）鞍型低回声凹陷，将子宫底分为左右两侧，左侧内膜厚[?]mm，右侧内膜厚[?]mm，余未见异常回声。双侧附件区未见明显异常\n",
      "********************************\n",
      "双角子宫\n",
      "子宫横径增宽，宫壁回声均匀，内膜线呈Y型走行，宫底见（未见）鞍型低回声凹陷，将子宫底分为左右两侧，左侧内膜厚[?]mm，右侧内膜厚[?]mm，余未见异常回声。双侧附件区未见明显异常\n",
      "\n",
      "----------------------------------------------------\n",
      "\n",
      "不全纵隔子宫\n",
      "子宫横径增宽，宫壁回声均匀，内膜线呈Y型走行，宫底见（未见）鞍型低回声凹陷，将子宫底分为左右两侧，左侧内膜厚[?]mm，右侧内膜厚[?]mm，余未见异常回声。双侧附件区未见明显异常\n",
      "********************************\n",
      "纵隔子宫\n",
      "子宫横径增宽，宫壁回声均匀，内膜线呈Y型走行，宫底见（未见）鞍型低回声凹陷，将子宫底分为左右两侧，左侧内膜厚[?]mm，右侧内膜厚[?]mm，余未见异常回声。双侧附件区未见明显异常\n",
      "\n",
      "----------------------------------------------------\n",
      "\n",
      "宫内中妊，单活胎\n",
      "胎头呈规则圆形光环，脑中线居中，侧脑室不大，双顶径：mm。脊柱称双排串珠样排列，连续性好。胎心搏动规律，胎心： 次/分。股骨长：mm。羊水 mm。前壁后壁宫底胎盘，厚度 mm。\n",
      "********************************\n",
      "宫内晚妊，单活胎\n",
      "胎头呈规则圆形光环，脑中线居中，侧脑室不大，双顶径：mm。脊柱称双排串珠样排列，连续性好。胎心搏动规律，胎心： 次/分。股骨长：mm。羊水 mm。前壁后壁宫底胎盘，厚度 mm。\n",
      "\n",
      "----------------------------------------------------\n",
      "\n",
      "宫颈肥大\n",
      "子宫形态大小正常，轮廓光整，实质回声均匀，内膜不厚，宫颈增厚约mm。\n",
      "宫颈肥大\n",
      "********************************\n",
      "子宫内膜增厚\n",
      "子宫形态大小正常，轮廓光整，实质回声均匀，内膜增厚约 mm。\n",
      "\n",
      "----------------------------------------------------\n",
      "\n",
      "先天性无子宫\n",
      "盆腔未见子宫回声。\n",
      "********************************\n",
      "子宫未探及\n",
      "盆腔未见子宫回声。\n",
      "\n",
      "----------------------------------------------------\n",
      "\n",
      "子宫体积缩小\n",
      "子宫体积缩小，内膜不厚，呈“线状”改变，其内未见明显异常回声。;CDFI：内未见明显异常血流。\n",
      "子宫体积小，内部回声尚均匀，内膜不厚，呈“线状”改变，其内未见明显异常回声。\n",
      "********************************\n",
      "绝经后子宫、双侧附件区未见明显异常\n",
      "子宫体积小，内部回声尚均匀，内膜不厚，呈“线状”改变，其内未见明显异常回声。\n",
      "\n",
      "----------------------------------------------------\n",
      "\n",
      "子宫体积缩小\n",
      "子宫体积缩小，内膜不厚，呈“线状”改变，其内未见明显异常回声。;CDFI：内未见明显异常血流。\n",
      "子宫体积小，内部回声尚均匀，内膜不厚，呈“线状”改变，其内未见明显异常回声。\n",
      "********************************\n",
      "绝经后子宫\n",
      "子宫体积小，内部回声尚均匀，内膜不厚，呈“线状”改变，其内未见明显异常回声。\n",
      "\n",
      "----------------------------------------------------\n",
      "\n",
      "子宫见低回声\n",
      "[部位]侧宫体大小约[?]*[?]cm，肌层回声均匀，内膜居中，厚约[?]cm，[部位]侧见[?]*[?]cm低回声，未见内膜回声。\n",
      "********************************\n",
      "双子宫\n",
      "[部位]侧宫体大小约[?]*[?]cm，肌层回声均匀，内膜居中，厚约[?]cm，[部位]侧见[?]*[?]cm低回声，未见内膜回声。\n",
      "\n",
      "----------------------------------------------------\n",
      "\n",
      "宫内节育环显示\n",
      "子宫大小形态正常，肌层回声均匀，宫腔内可探及节育环强光带，位置距宫底[?]mm；宫颈前后径正常，内部回声均匀。\n",
      "********************************\n",
      "节育环位置正常\n",
      "子宫大小形态正常，肌层回声均匀，宫腔内可探及节育环强光带，位置距宫底mm；宫颈前后径正常，内部回声均匀。\n",
      "\n",
      "----------------------------------------------------\n",
      "\n",
      "0.05084745762711865\n"
     ]
    }
   ],
   "source": [
    "t = 0\n",
    "for i in range(X.shape[0]):\n",
    "    result = idx_to_target[clf.predict(X[i])[0]]\n",
    "    target = df_cleaned['JBBT'].iloc[i]\n",
    "    if result != target:\n",
    "        t+=1\n",
    "        printResult(i)\n",
    "        print('\\n----------------------------------------------------\\n')   \n",
    "print(t / float(X.shape[0]))"
   ]
  },
  {
   "cell_type": "code",
   "execution_count": 168,
   "metadata": {
    "collapsed": false
   },
   "outputs": [
    {
     "data": {
      "text/plain": [
       "'宫颈囊肿'"
      ]
     },
     "execution_count": 168,
     "metadata": {},
     "output_type": "execute_result"
    }
   ],
   "source": [
    "l = ['子宫', '形态', '大小', '正常', '，', '轮廓', '光整', '，', '肌层', '回声', '均匀', '，', '宫颈', '见', '一个', '类圆形', '无', '回声', '区', '，', '大小', '约', '5', 'mmx', '4', 'mm', '。', '建议', '进一步', '检查']\n",
    "v = model.transform([' '.join(l)]).toarray()\n",
    "result = idx_to_target[clf.predict(v)[0]]\n",
    "result"
   ]
  },
  {
   "cell_type": "code",
   "execution_count": null,
   "metadata": {
    "collapsed": true
   },
   "outputs": [],
   "source": []
  }
 ],
 "metadata": {
  "kernelspec": {
   "display_name": "Python [Root]",
   "language": "python",
   "name": "Python [Root]"
  },
  "language_info": {
   "codemirror_mode": {
    "name": "ipython",
    "version": 3
   },
   "file_extension": ".py",
   "mimetype": "text/x-python",
   "name": "python",
   "nbconvert_exporter": "python",
   "pygments_lexer": "ipython3",
   "version": "3.5.2"
  }
 },
 "nbformat": 4,
 "nbformat_minor": 0
}
